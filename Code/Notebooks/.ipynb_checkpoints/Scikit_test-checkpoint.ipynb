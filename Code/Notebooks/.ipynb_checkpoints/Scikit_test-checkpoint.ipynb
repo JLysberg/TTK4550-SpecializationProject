{
 "cells": [
  {
   "cell_type": "code",
   "execution_count": 5,
   "id": "23d1d26c-7b66-44b3-8dd0-3510ae5e98aa",
   "metadata": {},
   "outputs": [],
   "source": [
    "import sklearn"
   ]
  },
  {
   "cell_type": "code",
   "execution_count": null,
   "id": "ab26c101-6f39-47bb-9f17-bf55e108299c",
   "metadata": {},
   "outputs": [],
   "source": [
    "hello........."
   ]
  }
 ],
 "metadata": {
  "kernelspec": {
   "display_name": "Python 3 (ipykernel)",
   "language": "python",
   "name": "python3"
  },
  "language_info": {
   "codemirror_mode": {
    "name": "ipython",
    "version": 3
   },
   "file_extension": ".py",
   "mimetype": "text/x-python",
   "name": "python",
   "nbconvert_exporter": "python",
   "pygments_lexer": "ipython3",
   "version": "3.8.11"
  }
 },
 "nbformat": 4,
 "nbformat_minor": 5
}
